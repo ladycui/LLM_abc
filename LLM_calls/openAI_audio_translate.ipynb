{
 "cells": [
  {
   "cell_type": "code",
   "execution_count": 5,
   "id": "initial_id",
   "metadata": {
    "ExecuteTime": {
     "end_time": "2023-12-30T17:13:28.932858Z",
     "start_time": "2023-12-30T17:13:25.495736Z"
    },
    "collapsed": true
   },
   "outputs": [
    {
     "name": "stdout",
     "output_type": "stream",
     "text": [
      "origin voice: Transcription(text='你好,今天天气怎么样?')\n",
      "type of cn_text: <class 'openai.types.audio.transcription.Transcription'>\n",
      "translate to english: ChatCompletion(id='chatcmpl-9EvSr62Chn2ijLJR2WCps3CEtCg0r', choices=[Choice(finish_reason='stop', index=0, logprobs=None, message=ChatCompletionMessage(content=\"Hello, how's the weather today?\", role='assistant', function_call=None, tool_calls=None))], created=1713344513, model='gpt-3.5-turbo-1106', object='chat.completion', system_fingerprint='fp_77a673219d', usage=CompletionUsage(completion_tokens=8, prompt_tokens=41, total_tokens=49))\n"
     ]
    },
    {
     "name": "stderr",
     "output_type": "stream",
     "text": [
      "/tmp/ipykernel_1019985/1032074807.py:44: DeprecationWarning: Due to a bug, this method doesn't actually stream the response content, `.with_streaming_response.method()` should be used instead\n",
      "  response.stream_to_file(speech_file_path)\n"
     ]
    }
   ],
   "source": [
    "# 实时翻译机器人\n",
    "import os\n",
    "from openai import OpenAI\n",
    "\n",
    "os.environ['OPENAI_API_KEY'] = '${YOUR_API_KEY}'\n",
    "client = OpenAI()\n",
    "\n",
    "# 1. 语音识别成文字\n",
    "audio_file = open(\"input.m4a\", \"rb\")\n",
    "cn_text = client.audio.transcriptions.create(\n",
    "    model=\"whisper-1\",\n",
    "    file=audio_file,\n",
    "    response_format=\"json\",\n",
    "    # language=\"zh\",\n",
    "    temperature=0,\n",
    "    # prompt=\"\",\n",
    ")\n",
    "print(f\"origin voice: {cn_text}\")\n",
    "\n",
    "print(f\"type of cn_text: {type(cn_text)}\")\n",
    "\n",
    "# 2. 使用chat接口文字翻译成英文\n",
    "response = client.chat.completions.create(\n",
    "    model=\"gpt-3.5-turbo-1106\",\n",
    "    messages=[\n",
    "        {\"role\": \"system\", \"content\": \"You are a helpful assistant.\"},\n",
    "        {\"role\": \"user\", \"content\": \"translate from chinese to english: \" + cn_text.text}, ], #str(cn_text)亦可\n",
    "    temperature=0,\n",
    ")\n",
    "print(f\"translate to english: {response}\")\n",
    "\n",
    "en_text = response.choices[0].message.content\n",
    "\n",
    "# 3. 英文转换成语音\n",
    "speech_file_path = \"output_translate.mp3\"\n",
    "response = client.audio.speech.create(\n",
    "    model=\"tts-1\",\n",
    "    voice=\"alloy\",\n",
    "    input=en_text,\n",
    "    response_format=\"mp3\",\n",
    "    speed=1,\n",
    ")\n",
    "response.stream_to_file(speech_file_path)\n"
   ]
  }
 ],
 "metadata": {
  "kernelspec": {
   "display_name": "Python 3",
   "language": "python",
   "name": "python3"
  },
  "language_info": {
   "codemirror_mode": {
    "name": "ipython",
    "version": 3
   },
   "file_extension": ".py",
   "mimetype": "text/x-python",
   "name": "python",
   "nbconvert_exporter": "python",
   "pygments_lexer": "ipython3",
   "version": "3.11.7"
  }
 },
 "nbformat": 4,
 "nbformat_minor": 5
}

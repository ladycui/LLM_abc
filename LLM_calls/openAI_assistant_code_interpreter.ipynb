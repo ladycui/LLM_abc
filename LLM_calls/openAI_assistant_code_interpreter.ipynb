{
 "cells": [
  {
   "cell_type": "code",
   "execution_count": 1,
   "id": "9fc749be3820b6e",
   "metadata": {
    "ExecuteTime": {
     "end_time": "2023-12-31T07:38:00.371065Z",
     "start_time": "2023-12-31T07:38:00.333541Z"
    },
    "collapsed": false,
    "jupyter": {
     "outputs_hidden": false
    }
   },
   "outputs": [],
   "source": [
    "# 初始化环境，可以设置成全局的环境变量，也可以在代码中指定\n",
    "from openai import OpenAI\n",
    "import os\n",
    "\n",
    "\n",
    "# 填写你自己的key\n",
    "os.environ['OPENAI_API_KEY'] = '${OPENAI_API_KEY}'\n",
    "\n",
    "client = OpenAI()"
   ]
  },
  {
   "cell_type": "code",
   "execution_count": 2,
   "id": "initial_id",
   "metadata": {
    "ExecuteTime": {
     "end_time": "2024-01-01T06:31:41.623903Z",
     "start_time": "2024-01-01T06:31:36.845386Z"
    }
   },
   "outputs": [
    {
     "name": "stdout",
     "output_type": "stream",
     "text": [
      "{\"id\":\"asst_wpqLs7IRt9Wg41rk5Mo1JEK2\",\"created_at\":1713432006,\"description\":\"数学老师\",\"instructions\":\"You are a personal math tutor. Write and run code to answer math questions.\",\"metadata\":{},\"model\":\"gpt-3.5-turbo-1106\",\"name\":\"Math Tutor\",\"object\":\"assistant\",\"tools\":[{\"type\":\"code_interpreter\"}],\"response_format\":\"auto\",\"temperature\":1.0,\"tool_resources\":{\"code_interpreter\":{\"file_ids\":[]},\"file_search\":null},\"top_p\":1.0}\n"
     ]
    }
   ],
   "source": [
    "# 1.  创建助手\n",
    "assistant = client.beta.assistants.create(\n",
    "    # 助手名称\n",
    "    name=\"Math Tutor\",\n",
    "    # 填写提示词\n",
    "    instructions=\"You are a personal math tutor. Write and run code to answer math questions.\",\n",
    "    # 助手的描述\n",
    "    description=\"数学老师\",\n",
    "    tools=[\n",
    "        # 开启代码解释器\n",
    "        {\"type\": \"code_interpreter\"}\n",
    "    ],\n",
    "    # 模型\n",
    "    model=\"gpt-3.5-turbo-1106\"\n",
    ")\n",
    "print(assistant.model_dump_json())"
   ]
  },
  {
   "cell_type": "code",
   "execution_count": null,
   "id": "80105eb89ecb5b0e",
   "metadata": {
    "ExecuteTime": {
     "end_time": "2024-01-01T06:31:54.421944Z",
     "start_time": "2024-01-01T06:31:47.258796Z"
    },
    "collapsed": false,
    "jupyter": {
     "outputs_hidden": false
    }
   },
   "outputs": [],
   "source": [
    "# 获取assistants列表\n",
    "my_assistants = client.beta.assistants.list(\n",
    "    order=\"desc\",\n",
    "    limit=\"20\",\n",
    ")\n",
    "print(my_assistants.model_dump_json())"
   ]
  },
  {
   "cell_type": "code",
   "execution_count": null,
   "id": "e027b73edf6c5afa",
   "metadata": {
    "ExecuteTime": {
     "end_time": "2024-01-01T06:31:56.371007Z",
     "start_time": "2024-01-01T06:31:54.420626Z"
    },
    "collapsed": false,
    "jupyter": {
     "outputs_hidden": false
    }
   },
   "outputs": [],
   "source": [
    "# 获取assistants详情\n",
    "my_assistant = client.beta.assistants.retrieve(assistant.id)\n",
    "print(my_assistant.model_dump_json())"
   ]
  },
  {
   "cell_type": "code",
   "execution_count": null,
   "id": "d64f86382eda0234",
   "metadata": {
    "ExecuteTime": {
     "end_time": "2024-01-01T06:31:28.499120Z",
     "start_time": "2024-01-01T06:31:25.291042Z"
    },
    "collapsed": false,
    "jupyter": {
     "outputs_hidden": false
    }
   },
   "outputs": [],
   "source": [
    "# 删除助手\n",
    "response = client.beta.assistants.delete(\"asst_0sxLXccq88BZXwTpes2xlm8J\")\n",
    "print(response.model_dump_json())"
   ]
  },
  {
   "cell_type": "code",
   "execution_count": 3,
   "id": "b4e6dab6f00500cf",
   "metadata": {
    "ExecuteTime": {
     "end_time": "2024-01-01T06:09:40.715538Z",
     "start_time": "2024-01-01T06:09:38.122461Z"
    },
    "collapsed": false,
    "jupyter": {
     "outputs_hidden": false
    }
   },
   "outputs": [
    {
     "name": "stdout",
     "output_type": "stream",
     "text": [
      "{\"id\":\"thread_MwEzGiETgjoSkIuFTqLTjLC1\",\"created_at\":1713432809,\"metadata\":{},\"object\":\"thread\",\"tool_resources\":{\"code_interpreter\":null,\"file_search\":null}}\n"
     ]
    }
   ],
   "source": [
    "# 2. 创建线程\n",
    "empty_thread = client.beta.threads.create()\n",
    "print(empty_thread.model_dump_json())"
   ]
  },
  {
   "cell_type": "code",
   "execution_count": 5,
   "id": "6c20f4cd193fd28d",
   "metadata": {
    "ExecuteTime": {
     "end_time": "2024-01-01T06:21:01.794351Z",
     "start_time": "2024-01-01T06:20:58.742997Z"
    },
    "collapsed": false,
    "jupyter": {
     "outputs_hidden": false
    }
   },
   "outputs": [
    {
     "name": "stdout",
     "output_type": "stream",
     "text": [
      "{\"id\":\"thread_MwEzGiETgjoSkIuFTqLTjLC1\",\"created_at\":1713432809,\"metadata\":{},\"object\":\"thread\",\"tool_resources\":{\"code_interpreter\":{\"file_ids\":[]},\"file_search\":null}}\n"
     ]
    }
   ],
   "source": [
    "# 获取线程\n",
    "my_thread = client.beta.threads.retrieve(empty_thread.id)\n",
    "print(my_thread.model_dump_json())"
   ]
  },
  {
   "cell_type": "code",
   "execution_count": null,
   "id": "de339af7e6d8399",
   "metadata": {
    "ExecuteTime": {
     "end_time": "2024-01-01T06:10:11.798505Z",
     "start_time": "2024-01-01T06:10:08.056384Z"
    },
    "collapsed": false,
    "jupyter": {
     "outputs_hidden": false
    }
   },
   "outputs": [],
   "source": [
    "# 删除线程\n",
    "response = client.beta.threads.delete(\"thread_uztos9m97ckTgHmzuqpNFjXe\")\n",
    "print(response.model_dump_json())"
   ]
  },
  {
   "cell_type": "code",
   "execution_count": 6,
   "id": "cb0b9b45e5cc4cbc",
   "metadata": {
    "ExecuteTime": {
     "end_time": "2024-01-01T06:18:29.754998Z",
     "start_time": "2024-01-01T06:18:23.732155Z"
    },
    "collapsed": false,
    "jupyter": {
     "outputs_hidden": false
    }
   },
   "outputs": [
    {
     "name": "stdout",
     "output_type": "stream",
     "text": [
      "{\"id\":\"msg_hqEy9v5ucrXb31IY7UllD0TZ\",\"assistant_id\":null,\"attachments\":[],\"completed_at\":null,\"content\":[{\"text\":{\"annotations\":[],\"value\":\"I need to solve the equation `3x + 11 = 14`. Can you help me?\"},\"type\":\"text\"}],\"created_at\":1713432856,\"incomplete_at\":null,\"incomplete_details\":null,\"metadata\":{},\"object\":\"thread.message\",\"role\":\"user\",\"run_id\":null,\"status\":null,\"thread_id\":\"thread_MwEzGiETgjoSkIuFTqLTjLC1\"}\n"
     ]
    }
   ],
   "source": [
    "# 3. 向主题添加消息\n",
    "message = client.beta.threads.messages.create(\n",
    "    thread_id=my_thread.id,\n",
    "    role=\"user\",\n",
    "    content=\"I need to solve the equation `3x + 11 = 14`. Can you help me?\"\n",
    ")\n",
    "print(message.model_dump_json())"
   ]
  },
  {
   "cell_type": "code",
   "execution_count": null,
   "id": "1860cd9f550a27cd",
   "metadata": {
    "ExecuteTime": {
     "end_time": "2024-01-01T06:53:09.969145Z",
     "start_time": "2024-01-01T06:53:02.431713Z"
    },
    "collapsed": false,
    "jupyter": {
     "outputs_hidden": false
    }
   },
   "outputs": [],
   "source": [
    "# 获取线程下的所有消息\n",
    "thread_messages = client.beta.threads.messages.list(thread_id=my_thread.id)\n",
    "print(thread_messages.model_dump_json())"
   ]
  },
  {
   "cell_type": "code",
   "execution_count": null,
   "id": "54a980d3147d6586",
   "metadata": {
    "ExecuteTime": {
     "end_time": "2024-01-01T06:52:21.801330Z",
     "start_time": "2024-01-01T06:52:20.150170Z"
    },
    "collapsed": false,
    "jupyter": {
     "outputs_hidden": false
    }
   },
   "outputs": [],
   "source": [
    "# 获取消息详情\n",
    "message = client.beta.threads.messages.retrieve(\n",
    "    message_id=message.id,\n",
    "    thread_id=message.thread_id,\n",
    ")\n",
    "print(message.model_dump_json())"
   ]
  },
  {
   "cell_type": "code",
   "execution_count": 7,
   "id": "cc34b70a33d19c2a",
   "metadata": {
    "ExecuteTime": {
     "end_time": "2024-01-01T06:37:18.861173Z",
     "start_time": "2024-01-01T06:37:14.804880Z"
    },
    "collapsed": false,
    "jupyter": {
     "outputs_hidden": false
    }
   },
   "outputs": [
    {
     "name": "stdout",
     "output_type": "stream",
     "text": [
      "{\"id\":\"run_aE3RTVjfo0B6Mixzh1rK9MB7\",\"assistant_id\":\"asst_wpqLs7IRt9Wg41rk5Mo1JEK2\",\"cancelled_at\":null,\"completed_at\":null,\"created_at\":1713432874,\"expires_at\":1713433474,\"failed_at\":null,\"incomplete_details\":null,\"instructions\":\"You are a personal math tutor. Write and run code to answer math questions.\",\"last_error\":null,\"max_completion_tokens\":null,\"max_prompt_tokens\":null,\"metadata\":{},\"model\":\"gpt-3.5-turbo-1106\",\"object\":\"thread.run\",\"required_action\":null,\"response_format\":\"auto\",\"started_at\":null,\"status\":\"queued\",\"thread_id\":\"thread_MwEzGiETgjoSkIuFTqLTjLC1\",\"tool_choice\":\"auto\",\"tools\":[{\"type\":\"code_interpreter\"}],\"truncation_strategy\":{\"type\":\"auto\",\"last_messages\":null},\"usage\":null,\"temperature\":1.0,\"top_p\":1.0,\"tool_resources\":{}}\n"
     ]
    }
   ],
   "source": [
    "# 4. 运行助手 \n",
    "run = client.beta.threads.runs.create(\n",
    "    thread_id=my_thread.id,\n",
    "    assistant_id=assistant.id\n",
    ")\n",
    "print(run.model_dump_json())"
   ]
  },
  {
   "cell_type": "code",
   "execution_count": null,
   "id": "6c78f6bb505489ac",
   "metadata": {
    "ExecuteTime": {
     "end_time": "2024-01-01T06:38:54.863139Z",
     "start_time": "2024-01-01T06:38:52.644860Z"
    },
    "collapsed": false,
    "jupyter": {
     "outputs_hidden": false
    }
   },
   "outputs": [],
   "source": [
    "# 返回属于线程的运行列表。\n",
    "runs = client.beta.threads.runs.list(run.thread_id)\n",
    "print(runs.model_dump_json())"
   ]
  },
  {
   "cell_type": "code",
   "execution_count": null,
   "id": "84d760d77e38f971",
   "metadata": {
    "ExecuteTime": {
     "end_time": "2024-01-01T06:42:27.756266Z",
     "start_time": "2024-01-01T06:42:26.291918Z"
    },
    "collapsed": false,
    "jupyter": {
     "outputs_hidden": false
    }
   },
   "outputs": [],
   "source": [
    "# 列出运行详细步骤\n",
    "run_steps = client.beta.threads.runs.steps.list(\n",
    "    thread_id=my_thread.id,\n",
    "    run_id=run.id\n",
    ")\n",
    "print(run_steps.model_dump_json())"
   ]
  },
  {
   "cell_type": "code",
   "execution_count": 8,
   "id": "71a895d58e8509f0",
   "metadata": {
    "ExecuteTime": {
     "end_time": "2024-01-01T06:48:59.699643Z",
     "start_time": "2024-01-01T06:48:57.358996Z"
    },
    "collapsed": false,
    "jupyter": {
     "outputs_hidden": false
    }
   },
   "outputs": [
    {
     "name": "stdout",
     "output_type": "stream",
     "text": [
      "{\"id\":\"run_aE3RTVjfo0B6Mixzh1rK9MB7\",\"assistant_id\":\"asst_wpqLs7IRt9Wg41rk5Mo1JEK2\",\"cancelled_at\":null,\"completed_at\":1713432881,\"created_at\":1713432874,\"expires_at\":null,\"failed_at\":null,\"incomplete_details\":null,\"instructions\":\"You are a personal math tutor. Write and run code to answer math questions.\",\"last_error\":null,\"max_completion_tokens\":null,\"max_prompt_tokens\":null,\"metadata\":{},\"model\":\"gpt-3.5-turbo-1106\",\"object\":\"thread.run\",\"required_action\":null,\"response_format\":\"auto\",\"started_at\":1713432874,\"status\":\"completed\",\"thread_id\":\"thread_MwEzGiETgjoSkIuFTqLTjLC1\",\"tool_choice\":\"auto\",\"tools\":[{\"type\":\"code_interpreter\"}],\"truncation_strategy\":{\"type\":\"auto\",\"last_messages\":null},\"usage\":{\"completion_tokens\":88,\"prompt_tokens\":348,\"total_tokens\":436},\"temperature\":1.0,\"top_p\":1.0,\"tool_resources\":{}}\n"
     ]
    }
   ],
   "source": [
    "# 5. 检查运行状态\n",
    "run = client.beta.threads.runs.retrieve(\n",
    "    thread_id=my_thread.id,\n",
    "    run_id=run.id\n",
    ")\n",
    "print(run.model_dump_json())"
   ]
  },
  {
   "cell_type": "code",
   "execution_count": 9,
   "id": "faacf362bba7493c",
   "metadata": {
    "ExecuteTime": {
     "end_time": "2024-01-01T07:19:59.636966Z",
     "start_time": "2024-01-01T07:19:54.891803Z"
    },
    "collapsed": false,
    "jupyter": {
     "outputs_hidden": false
    }
   },
   "outputs": [
    {
     "name": "stdout",
     "output_type": "stream",
     "text": [
      "{\"data\":[{\"id\":\"msg_ZyZKpwD9YkFTcbWIOwMkSM4y\",\"assistant_id\":\"asst_wpqLs7IRt9Wg41rk5Mo1JEK2\",\"attachments\":[],\"completed_at\":null,\"content\":[{\"text\":{\"annotations\":[],\"value\":\"The solution to the equation \\\\(3x + 11 = 14\\\\) is \\\\(x = 1\\\\).\"},\"type\":\"text\"}],\"created_at\":1713432880,\"incomplete_at\":null,\"incomplete_details\":null,\"metadata\":{},\"object\":\"thread.message\",\"role\":\"assistant\",\"run_id\":\"run_aE3RTVjfo0B6Mixzh1rK9MB7\",\"status\":null,\"thread_id\":\"thread_MwEzGiETgjoSkIuFTqLTjLC1\"},{\"id\":\"msg_hqEy9v5ucrXb31IY7UllD0TZ\",\"assistant_id\":null,\"attachments\":[],\"completed_at\":null,\"content\":[{\"text\":{\"annotations\":[],\"value\":\"I need to solve the equation `3x + 11 = 14`. Can you help me?\"},\"type\":\"text\"}],\"created_at\":1713432856,\"incomplete_at\":null,\"incomplete_details\":null,\"metadata\":{},\"object\":\"thread.message\",\"role\":\"user\",\"run_id\":null,\"status\":null,\"thread_id\":\"thread_MwEzGiETgjoSkIuFTqLTjLC1\"}],\"object\":\"list\",\"first_id\":\"msg_ZyZKpwD9YkFTcbWIOwMkSM4y\",\"last_id\":\"msg_hqEy9v5ucrXb31IY7UllD0TZ\",\"has_more\":false}\n"
     ]
    }
   ],
   "source": [
    "# 6. 显示最终响应\n",
    "thread_messages = client.beta.threads.messages.list(thread_id=my_thread.id)\n",
    "print(thread_messages.model_dump_json())"
   ]
  },
  {
   "cell_type": "code",
   "execution_count": 10,
   "id": "f82d5adf-b048-4ad1-af39-d57d430bbb73",
   "metadata": {},
   "outputs": [
    {
     "name": "stdout",
     "output_type": "stream",
     "text": [
      "{\"id\":\"msg_UEsHtU68SnKgQGKGe28aJU2e\",\"assistant_id\":null,\"attachments\":[],\"completed_at\":null,\"content\":[{\"text\":{\"annotations\":[],\"value\":\"I need to solve the equation `3x + 11 = 17`. Can you help me?\"},\"type\":\"text\"}],\"created_at\":1713432919,\"incomplete_at\":null,\"incomplete_details\":null,\"metadata\":{},\"object\":\"thread.message\",\"role\":\"user\",\"run_id\":null,\"status\":null,\"thread_id\":\"thread_MwEzGiETgjoSkIuFTqLTjLC1\"}\n"
     ]
    }
   ],
   "source": [
    "## 再来一遍\n",
    "# 3. 向主题添加消息\n",
    "message = client.beta.threads.messages.create(\n",
    "    thread_id=my_thread.id,\n",
    "    role=\"user\",\n",
    "    content=\"I need to solve the equation `3x + 11 = 17`. Can you help me?\"\n",
    ")\n",
    "print(message.model_dump_json())"
   ]
  },
  {
   "cell_type": "code",
   "execution_count": null,
   "id": "1397f57f",
   "metadata": {},
   "outputs": [],
   "source": [
    "# 获取线程下的所有消息\n",
    "thread_messages = client.beta.threads.messages.list(thread_id=my_thread.id)\n",
    "print(thread_messages.model_dump_json())"
   ]
  },
  {
   "cell_type": "code",
   "execution_count": 11,
   "id": "493da125",
   "metadata": {},
   "outputs": [
    {
     "name": "stdout",
     "output_type": "stream",
     "text": [
      "{\"id\":\"run_shkoZzYF4ricCqE1HRMwFrPA\",\"assistant_id\":\"asst_wpqLs7IRt9Wg41rk5Mo1JEK2\",\"cancelled_at\":null,\"completed_at\":null,\"created_at\":1713432923,\"expires_at\":1713433523,\"failed_at\":null,\"incomplete_details\":null,\"instructions\":\"You are a personal math tutor. Write and run code to answer math questions.\",\"last_error\":null,\"max_completion_tokens\":null,\"max_prompt_tokens\":null,\"metadata\":{},\"model\":\"gpt-3.5-turbo-1106\",\"object\":\"thread.run\",\"required_action\":null,\"response_format\":\"auto\",\"started_at\":null,\"status\":\"queued\",\"thread_id\":\"thread_MwEzGiETgjoSkIuFTqLTjLC1\",\"tool_choice\":\"auto\",\"tools\":[{\"type\":\"code_interpreter\"}],\"truncation_strategy\":{\"type\":\"auto\",\"last_messages\":null},\"usage\":null,\"temperature\":1.0,\"top_p\":1.0,\"tool_resources\":{}}\n"
     ]
    }
   ],
   "source": [
    "# 4. 运行助手 \n",
    "run = client.beta.threads.runs.create(\n",
    "    thread_id=my_thread.id,\n",
    "    assistant_id=assistant.id\n",
    ")\n",
    "print(run.model_dump_json())"
   ]
  },
  {
   "cell_type": "code",
   "execution_count": 12,
   "id": "6fdb82ad",
   "metadata": {},
   "outputs": [
    {
     "name": "stdout",
     "output_type": "stream",
     "text": [
      "{\"data\":[{\"id\":\"msg_WIfvc4vGm9rGnnrODW8uWrIi\",\"assistant_id\":\"asst_wpqLs7IRt9Wg41rk5Mo1JEK2\",\"attachments\":[],\"completed_at\":null,\"content\":[{\"text\":{\"annotations\":[],\"value\":\"The solution to the equation \\\\(3x + 11 = 17\\\\) is \\\\(x = 2\\\\).\"},\"type\":\"text\"}],\"created_at\":1713432927,\"incomplete_at\":null,\"incomplete_details\":null,\"metadata\":{},\"object\":\"thread.message\",\"role\":\"assistant\",\"run_id\":\"run_shkoZzYF4ricCqE1HRMwFrPA\",\"status\":null,\"thread_id\":\"thread_MwEzGiETgjoSkIuFTqLTjLC1\"},{\"id\":\"msg_UEsHtU68SnKgQGKGe28aJU2e\",\"assistant_id\":null,\"attachments\":[],\"completed_at\":null,\"content\":[{\"text\":{\"annotations\":[],\"value\":\"I need to solve the equation `3x + 11 = 17`. Can you help me?\"},\"type\":\"text\"}],\"created_at\":1713432919,\"incomplete_at\":null,\"incomplete_details\":null,\"metadata\":{},\"object\":\"thread.message\",\"role\":\"user\",\"run_id\":null,\"status\":null,\"thread_id\":\"thread_MwEzGiETgjoSkIuFTqLTjLC1\"},{\"id\":\"msg_ZyZKpwD9YkFTcbWIOwMkSM4y\",\"assistant_id\":\"asst_wpqLs7IRt9Wg41rk5Mo1JEK2\",\"attachments\":[],\"completed_at\":null,\"content\":[{\"text\":{\"annotations\":[],\"value\":\"The solution to the equation \\\\(3x + 11 = 14\\\\) is \\\\(x = 1\\\\).\"},\"type\":\"text\"}],\"created_at\":1713432880,\"incomplete_at\":null,\"incomplete_details\":null,\"metadata\":{},\"object\":\"thread.message\",\"role\":\"assistant\",\"run_id\":\"run_aE3RTVjfo0B6Mixzh1rK9MB7\",\"status\":null,\"thread_id\":\"thread_MwEzGiETgjoSkIuFTqLTjLC1\"},{\"id\":\"msg_hqEy9v5ucrXb31IY7UllD0TZ\",\"assistant_id\":null,\"attachments\":[],\"completed_at\":null,\"content\":[{\"text\":{\"annotations\":[],\"value\":\"I need to solve the equation `3x + 11 = 14`. Can you help me?\"},\"type\":\"text\"}],\"created_at\":1713432856,\"incomplete_at\":null,\"incomplete_details\":null,\"metadata\":{},\"object\":\"thread.message\",\"role\":\"user\",\"run_id\":null,\"status\":null,\"thread_id\":\"thread_MwEzGiETgjoSkIuFTqLTjLC1\"}],\"object\":\"list\",\"first_id\":\"msg_WIfvc4vGm9rGnnrODW8uWrIi\",\"last_id\":\"msg_hqEy9v5ucrXb31IY7UllD0TZ\",\"has_more\":false}\n"
     ]
    }
   ],
   "source": [
    "thread_messages = client.beta.threads.messages.list(thread_id=my_thread.id)\n",
    "print(thread_messages.model_dump_json())"
   ]
  }
 ],
 "metadata": {
  "kernelspec": {
   "display_name": "Python 3 (ipykernel)",
   "language": "python",
   "name": "python3"
  },
  "language_info": {
   "codemirror_mode": {
    "name": "ipython",
    "version": 3
   },
   "file_extension": ".py",
   "mimetype": "text/x-python",
   "name": "python",
   "nbconvert_exporter": "python",
   "pygments_lexer": "ipython3",
   "version": "3.11.7"
  }
 },
 "nbformat": 4,
 "nbformat_minor": 5
}

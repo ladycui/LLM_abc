{
 "cells": [
  {
   "cell_type": "code",
   "execution_count": 12,
   "id": "initial_id",
   "metadata": {
    "ExecuteTime": {
     "end_time": "2023-12-30T17:01:39.485370Z",
     "start_time": "2023-12-30T17:01:39.472780Z"
    }
   },
   "outputs": [],
   "source": [
    "# 初始化环境\n",
    "import os\n",
    "\n",
    "os.environ['OPENAI_API_KEY'] = '${OPENAI_API_KEY}'"
   ]
  },
  {
   "cell_type": "code",
   "execution_count": 18,
   "id": "ebe75f707988b07",
   "metadata": {
    "ExecuteTime": {
     "end_time": "2023-12-30T16:47:35.841974Z",
     "start_time": "2023-12-30T16:47:34.300611Z"
    },
    "collapsed": false,
    "jupyter": {
     "outputs_hidden": false
    }
   },
   "outputs": [
    {
     "name": "stdout",
     "output_type": "stream",
     "text": [
      "Transcription(text='你好,今天天气怎么样?')\n"
     ]
    }
   ],
   "source": [
    "# 语音转文字\n",
    "from openai import OpenAI\n",
    "\n",
    "client = OpenAI()\n",
    "\n",
    "audio_file = open(\"input.m4a\", \"rb\")\n",
    "transcript = client.audio.transcriptions.create(\n",
    "    model=\"whisper-1\",\n",
    "    file=audio_file,\n",
    "    response_format=\"json\", #text格式会报错 不晓得原因，不过可以从这个小点可以看出我们尽量使用json\n",
    "    # language=\"zh\",\n",
    "    temperature=0,\n",
    "    # prompt=\"\",\n",
    ")\n",
    "print(transcript)"
   ]
  },
  {
   "cell_type": "code",
   "execution_count": 17,
   "id": "e292f38607436aab",
   "metadata": {
    "ExecuteTime": {
     "end_time": "2023-12-30T17:12:58.325702Z",
     "start_time": "2023-12-30T17:12:56.244481Z"
    },
    "collapsed": false,
    "jupyter": {
     "outputs_hidden": false
    }
   },
   "outputs": [
    {
     "name": "stderr",
     "output_type": "stream",
     "text": [
      "/tmp/ipykernel_1017813/86583128.py:13: DeprecationWarning: Due to a bug, this method doesn't actually stream the response content, `.with_streaming_response.method()` should be used instead\n",
      "  response.stream_to_file(speech_file_path)\n"
     ]
    }
   ],
   "source": [
    "# 文字转语音\n",
    "from openai import OpenAI\n",
    "client = OpenAI()\n",
    "\n",
    "speech_file_path = \"output.mp3\"\n",
    "response = client.audio.speech.create(\n",
    "    model=\"tts-1\",\n",
    "    voice=\"alloy\",\n",
    "    input=\"你好,今天天气怎么样?\",\n",
    "    response_format=\"mp3\",\n",
    "    speed=1,\n",
    ")\n",
    "response.stream_to_file(speech_file_path)"
   ]
  },
  {
   "cell_type": "code",
   "execution_count": 25,
   "id": "f0143ca79adfedbb",
   "metadata": {
    "ExecuteTime": {
     "end_time": "2023-12-30T17:01:56.646913Z",
     "start_time": "2023-12-30T17:01:55.293993Z"
    },
    "collapsed": false,
    "jupyter": {
     "outputs_hidden": false
    }
   },
   "outputs": [
    {
     "name": "stdout",
     "output_type": "stream",
     "text": [
      "Translation(text='你好,今天天气怎么样?')\n"
     ]
    }
   ],
   "source": [
    "# 音频翻译成英文\n",
    "from openai import OpenAI\n",
    "client = OpenAI()\n",
    "\n",
    "audio_file = open(\"input.m4a\", \"rb\")\n",
    "translate = client.audio.translations.create(\n",
    "  model=\"whisper-1\",\n",
    "  file=audio_file\n",
    ")\n",
    "print(translate)"
   ]
  }
 ],
 "metadata": {
  "kernelspec": {
   "display_name": "Python 3 (ipykernel)",
   "language": "python",
   "name": "python3"
  },
  "language_info": {
   "codemirror_mode": {
    "name": "ipython",
    "version": 3
   },
   "file_extension": ".py",
   "mimetype": "text/x-python",
   "name": "python",
   "nbconvert_exporter": "python",
   "pygments_lexer": "ipython3",
   "version": "3.10.12"
  }
 },
 "nbformat": 4,
 "nbformat_minor": 5
}
